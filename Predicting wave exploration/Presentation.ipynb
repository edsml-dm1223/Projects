{
 "cells": [
  {
   "cell_type": "markdown",
   "id": "20363879-23d9-4ef7-a6ef-c46858651ef3",
   "metadata": {},
   "source": [
    "# 🌊 Predicting Significant Wave Heights for Ocean Exploration \n",
    "\n",
    "\n",
    "Welcome to EDSML Consulting! You are leading a consulting team in an important project with a top client, the Global Ocean Exploration Initiative (GOEI). This client focuses on understanding the dynamic nature of oceanic waves and their potential impact on marine operations.\n",
    "\n",
    "\n",
    "## 📄 Client’s Brief\n",
    "GOEI has provided you with a dataset that records oceanic and environmental conditions, and they would like you to predict significant wave heights (`Hsig`) based on these conditions. Accurate wave height predictions are crucial for planning maritime operations and ensuring safety.\n",
    "\n",
    "\n",
    "## Understanding the Data\n",
    "\n",
    "The data provided in `Hs.csv` includes several features that capture environmental and oceanic conditions related to wave height. Here are the key columns in the dataset:\n",
    "\n",
    "- `Hsig`: Significant wave height, measured in meters, which serves as the target variable for your regression model. Predicting this feature accurately is essential for understanding ocean conditions.\n",
    "- `Temperature`: Represents the water temperature, which can be analyzed in its continuous form or transformed into categories (e.g., Low, Moderate, High) to capture potential temperature bands.\n",
    "- `Wind Speed`: The speed of the wind measured in meters per second (m/s). Wind speed is a critical factor that influences wave heights and ocean conditions.\n",
    "- `Wave Direction (Dir)`: The direction from which the waves are approaching, measured in degrees (0° - 360°). This feature can help reveal patterns associated with wave height depending on the wave’s origin.\n",
    "- `Depth`: The depth of the water at the measurement location, measured in meters. Depth provides context for interpreting oceanic conditions at different levels below the surface.\n",
    "- `X-Windv` and `Y-Windv`: Components of wind velocity along the x-axis and y-axis, which capture directional wind forces.\n",
    "- `Season`: Represents the seasonal classification (e.g., Winter, Spring, Summer, Fall) for each measurement, allowing you to capture potential seasonal effects on wave heights.\n",
    "- `Wind_Dir_Category`: A categorical version of Wave Direction, grouped into broader directional categories (e.g., North, East, South, West) for simplified analysis of directional effects on wave height.\n",
    "\n",
    "\n",
    "# 📊 GOEI’s Assessment Criteria --  70 points overall\n",
    "\n",
    "Your work will be evaluated based on the following criteria:\n",
    "\n",
    "## Pipeline Structure and Implementation: 14 points\n",
    "\n",
    "Effective and organized implementation of the pipeline, covering both data preprocessing (`prep_pipe`) and modeling steps. A structured and reusable pipeline.\n",
    "\n",
    "## Data Preprocessing and Feature Engineering (Part 1): 33 points\n",
    "\n",
    "- Evidence-based data preparation steps informed by EDA insights.\n",
    "- Thoughtful and relevant feature engineering transformations and interactions that demonstrate innovation and alignment with the problem context.\n",
    "- Attention to collinearity, data transformations, and the creation of meaningful features that capture underlying data relationships.\n",
    "\n",
    "## Model Selection, Tuning, and Evaluation (Part 2): 23 points\n",
    "\n",
    "- Appropriate choice of a baseline model and ensemble models.\n",
    "- Evidence of hyperparameter tuning using `RandomizedSearchCV` with clear documentation of parameters and cross-validation.\n",
    "- Thorough performance evaluation on both the training (cross-validation) and test sets using R² and MSE, demonstrating a standard, evidence-based approach in model selection and assessment.\n",
    "\n",
    "\n",
    "## Documentation\n",
    "\n",
    "- Use concise markdown explanations (less than a line each) to explain each preprocessing and modeling step, highlighting what you’re doing and why.\n",
    "- Summarize your final choices and rationale in a short paragraph, emphasizing the evidence that informed each decision.\n",
    "\n",
    "\n",
    "\n",
    "GOEI values a well-justified approach over specific performance numbers, so focus on following the requirements and showing thoughtful, evidence-based innovation in your work. Remember to set `random_state=42` where needed for reproducibility."
   ]
  }
 ],
 "metadata": {
  "kernelspec": {
   "display_name": "dsml",
   "language": "python",
   "name": "python3"
  },
  "language_info": {
   "codemirror_mode": {
    "name": "ipython",
    "version": 3
   },
   "file_extension": ".py",
   "mimetype": "text/x-python",
   "name": "python",
   "nbconvert_exporter": "python",
   "pygments_lexer": "ipython3",
   "version": "3.8.20"
  }
 },
 "nbformat": 4,
 "nbformat_minor": 5
}
