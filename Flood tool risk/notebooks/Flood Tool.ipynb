{
 "cells": [
  {
   "cell_type": "markdown",
   "metadata": {},
   "source": [
    "# Flood Tool Examples\n",
    "\n",
    "## Placeholder notebook\n",
    "\n",
    "This notebook is initially set up to allow you to quickly start demonstrating your tool. You should expect it to change a lot over the course of the week as you add features and explore the data.\n",
    "\n",
    "The majority of your code is likely to be in your package (i.e. the `flood_tool` directory). You should import this package into this notebook and use it to show off the features of your tool."
   ]
  },
  {
   "cell_type": "code",
   "execution_count": 9,
   "metadata": {},
   "outputs": [
    {
     "ename": "SyntaxError",
     "evalue": "invalid syntax (tool.py, line 466)",
     "output_type": "error",
     "traceback": [
      "Traceback \u001b[0;36m(most recent call last)\u001b[0m:\n",
      "\u001b[0m  File \u001b[1;32m/opt/homebrew/Caskroom/miniconda/base/envs/deluge/lib/python3.12/site-packages/IPython/core/interactiveshell.py:3577\u001b[0m in \u001b[1;35mrun_code\u001b[0m\n    exec(code_obj, self.user_global_ns, self.user_ns)\u001b[0m\n",
      "\u001b[0m  Cell \u001b[1;32mIn[9], line 10\u001b[0m\n    import flood_tool as ft\u001b[0m\n",
      "\u001b[0;36m  File \u001b[0;32m~/Desktop/ads-deluge-jubilee/notebooks/../flood_tool/__init__.py:4\u001b[0;36m\n\u001b[0;31m    from .tool import *  # noqa: F401, F403\u001b[0;36m\n",
      "\u001b[0;36m  File \u001b[0;32m~/Desktop/ads-deluge-jubilee/notebooks/../flood_tool/tool.py:466\u001b[0;36m\u001b[0m\n\u001b[0;31m    elif method == 'constant'\u001b[0m\n\u001b[0m    ^\u001b[0m\n\u001b[0;31mSyntaxError\u001b[0m\u001b[0;31m:\u001b[0m invalid syntax\n"
     ]
    }
   ],
   "source": [
    "import sys\n",
    "\n",
    "# add the path to the flood_tool module so it's always found\n",
    "# when we import it. Note that '..' means \"go up one directory\"\n",
    "# from the current directory. This isn't best practice. If your tool\n",
    "# can be installed as a package (e.g. with `pip install -e.`), you\n",
    "# should do that instead.\n",
    "\n",
    "sys.path.append('...')\n",
    "import flood_tool as ft"
   ]
  },
  {
   "cell_type": "code",
   "execution_count": 7,
   "metadata": {},
   "outputs": [
    {
     "ename": "NameError",
     "evalue": "name 'ft' is not defined",
     "output_type": "error",
     "traceback": [
      "\u001b[0;31m---------------------------------------------------------------------------\u001b[0m",
      "\u001b[0;31mNameError\u001b[0m                                 Traceback (most recent call last)",
      "Cell \u001b[0;32mIn[7], line 1\u001b[0m\n\u001b[0;32m----> 1\u001b[0m tool \u001b[38;5;241m=\u001b[39m ft\u001b[38;5;241m.\u001b[39mTool()\n",
      "\u001b[0;31mNameError\u001b[0m: name 'ft' is not defined"
     ]
    }
   ],
   "source": [
    "tool = ft.Tool() # equivalent to Tool('../flood_tool/resoures/postcodes_unlabelled.csv')"
   ]
  },
  {
   "cell_type": "code",
   "execution_count": 8,
   "metadata": {},
   "outputs": [
    {
     "ename": "NameError",
     "evalue": "name 'tool' is not defined",
     "output_type": "error",
     "traceback": [
      "\u001b[0;31m---------------------------------------------------------------------------\u001b[0m",
      "\u001b[0;31mNameError\u001b[0m                                 Traceback (most recent call last)",
      "Cell \u001b[0;32mIn[8], line 1\u001b[0m\n\u001b[0;32m----> 1\u001b[0m tool\u001b[38;5;241m.\u001b[39mlookup_easting_northing([\u001b[38;5;124m'\u001b[39m\u001b[38;5;124mRH16 2QE\u001b[39m\u001b[38;5;124m'\u001b[39m])\n",
      "\u001b[0;31mNameError\u001b[0m: name 'tool' is not defined"
     ]
    }
   ],
   "source": [
    "tool.lookup_easting_northing(['RH16 2QE'])"
   ]
  },
  {
   "cell_type": "code",
   "execution_count": null,
   "metadata": {},
   "outputs": [
    {
     "data": {
      "text/plain": [
       "PO14 9GQ    1\n",
       "SW19 1LR    1\n",
       "BS8 9AE     1\n",
       "DA12 2WN    1\n",
       "BN50 9HR    1\n",
       "BA1 5BL     3\n",
       "Name: riskLabel, dtype: int64"
      ]
     },
     "execution_count": 4,
     "metadata": {},
     "output_type": "execute_result"
    }
   ],
   "source": [
    "# Prediction using postcode and default model\n",
    "# tool.fit() # fit all the models\n",
    "tool.predict_flood_class_from_postcode(['PO14 9GQ', 'SW19 1LR', 'BS8 9AE', 'DA12 2WN', 'BN50 9HR', 'BA1 5BL'])"
   ]
  },
  {
   "cell_type": "code",
   "execution_count": null,
   "metadata": {},
   "outputs": [
    {
     "data": {
      "text/plain": [
       "BA2 6FF    498459.3125\n",
       "Name: medianPrice, dtype: float32"
      ]
     },
     "execution_count": 5,
     "metadata": {},
     "output_type": "execute_result"
    }
   ],
   "source": [
    "tool.predict_median_house_price(['BA2 6FF'])"
   ]
  },
  {
   "cell_type": "code",
   "execution_count": null,
   "metadata": {},
   "outputs": [],
   "source": [
    "tool.estimate_total_value(['BA2 6FF'])"
   ]
  },
  {
   "cell_type": "code",
   "execution_count": null,
   "metadata": {},
   "outputs": [
    {
     "data": {
      "text/plain": [
       "BA2 6FF    0\n",
       "Name: historicallyFlooded, dtype: int64"
      ]
     },
     "execution_count": 6,
     "metadata": {},
     "output_type": "execute_result"
    }
   ],
   "source": [
    "tool.predict_historic_flooding(['BA2 6FF'])\n"
   ]
  },
  {
   "cell_type": "code",
   "execution_count": null,
   "metadata": {},
   "outputs": [
    {
     "ename": "TypeError",
     "evalue": "unsupported operand type(s) for /: 'list' and 'list'",
     "output_type": "error",
     "traceback": [
      "\u001b[0;31m---------------------------------------------------------------------------\u001b[0m",
      "\u001b[0;31mTypeError\u001b[0m                                 Traceback (most recent call last)",
      "Cell \u001b[0;32mIn[12], line 1\u001b[0m\n\u001b[0;32m----> 1\u001b[0m tool\u001b[38;5;241m.\u001b[39mestimate_annual_human_flood_risk([\u001b[38;5;124m'\u001b[39m\u001b[38;5;124mBA2 6FF\u001b[39m\u001b[38;5;124m'\u001b[39m])\n",
      "File \u001b[0;32m~/Desktop/Assessments/ads-deluge-jubilee/notebooks/../flood_tool/tool.py:976\u001b[0m, in \u001b[0;36mTool.estimate_annual_human_flood_risk\u001b[0;34m(self, postcodes, risk_labels)\u001b[0m\n\u001b[1;32m    972\u001b[0m matching_headcount \u001b[38;5;241m=\u001b[39m matching_data[\u001b[38;5;124m'\u001b[39m\u001b[38;5;124mheadcount\u001b[39m\u001b[38;5;124m'\u001b[39m]\u001b[38;5;241m.\u001b[39mtolist()\n\u001b[1;32m    973\u001b[0m matching_postcode_units \u001b[38;5;241m=\u001b[39m matching_data[\u001b[38;5;124m'\u001b[39m\u001b[38;5;124mnumberOfPostcodeUnits\u001b[39m\u001b[38;5;124m'\u001b[39m]\u001b[38;5;241m.\u001b[39mtolist()\n\u001b[1;32m    975\u001b[0m \u001b[38;5;28;01mreturn\u001b[39;00m pd\u001b[38;5;241m.\u001b[39mSeries(\n\u001b[0;32m--> 976\u001b[0m     data\u001b[38;5;241m=\u001b[39m \u001b[38;5;241m0.1\u001b[39m \u001b[38;5;241m*\u001b[39m (matching_headcount \u001b[38;5;241m/\u001b[39m matching_postcode_units) \u001b[38;5;241m*\u001b[39m risk_to_probability[risk_labels],\n\u001b[1;32m    977\u001b[0m     index\u001b[38;5;241m=\u001b[39mnp\u001b[38;5;241m.\u001b[39masarray(postcodes),\n\u001b[1;32m    978\u001b[0m     name\u001b[38;5;241m=\u001b[39m\u001b[38;5;124m\"\u001b[39m\u001b[38;5;124mhumanRisk\u001b[39m\u001b[38;5;124m\"\u001b[39m,\n\u001b[1;32m    979\u001b[0m )\n",
      "\u001b[0;31mTypeError\u001b[0m: unsupported operand type(s) for /: 'list' and 'list'"
     ]
    }
   ],
   "source": [
    "tool.estimate_annual_human_flood_risk(['BA2 6FF'])"
   ]
  },
  {
   "cell_type": "code",
   "execution_count": null,
   "metadata": {},
   "outputs": [],
   "source": []
  },
  {
   "cell_type": "markdown",
   "metadata": {},
   "source": [
    "We can also use the live data features"
   ]
  },
  {
   "cell_type": "code",
   "execution_count": null,
   "metadata": {},
   "outputs": [
    {
     "data": {
      "text/html": [
       "<div>\n",
       "<style scoped>\n",
       "    .dataframe tbody tr th:only-of-type {\n",
       "        vertical-align: middle;\n",
       "    }\n",
       "\n",
       "    .dataframe tbody tr th {\n",
       "        vertical-align: top;\n",
       "    }\n",
       "\n",
       "    .dataframe thead th {\n",
       "        text-align: right;\n",
       "    }\n",
       "</style>\n",
       "<table border=\"1\" class=\"dataframe\">\n",
       "  <thead>\n",
       "    <tr style=\"text-align: right;\">\n",
       "      <th></th>\n",
       "      <th></th>\n",
       "      <th>value</th>\n",
       "      <th>qualifier</th>\n",
       "      <th>unitName</th>\n",
       "      <th>parameter</th>\n",
       "    </tr>\n",
       "    <tr>\n",
       "      <th>stationReference</th>\n",
       "      <th>dateTime</th>\n",
       "      <th></th>\n",
       "      <th></th>\n",
       "      <th></th>\n",
       "      <th></th>\n",
       "    </tr>\n",
       "  </thead>\n",
       "  <tbody>\n",
       "    <tr>\n",
       "      <th>000008</th>\n",
       "      <th>2024-11-21 23:30:00+00:00</th>\n",
       "      <td>0.0</td>\n",
       "      <td>Tipping Bucket Raingauge</td>\n",
       "      <td>mm</td>\n",
       "      <td>rainfail</td>\n",
       "    </tr>\n",
       "    <tr>\n",
       "      <th>000028</th>\n",
       "      <th>2024-11-21 23:30:00+00:00</th>\n",
       "      <td>0.0</td>\n",
       "      <td>Tipping Bucket Raingauge</td>\n",
       "      <td>mm</td>\n",
       "      <td>rainfail</td>\n",
       "    </tr>\n",
       "    <tr>\n",
       "      <th>000075TP</th>\n",
       "      <th>2024-11-21 23:30:00+00:00</th>\n",
       "      <td>0.0</td>\n",
       "      <td>Tipping Bucket Raingauge</td>\n",
       "      <td>mm</td>\n",
       "      <td>rainfail</td>\n",
       "    </tr>\n",
       "    <tr>\n",
       "      <th>000076TP</th>\n",
       "      <th>2024-11-21 23:30:00+00:00</th>\n",
       "      <td>0.0</td>\n",
       "      <td>Tipping Bucket Raingauge</td>\n",
       "      <td>mm</td>\n",
       "      <td>rainfail</td>\n",
       "    </tr>\n",
       "    <tr>\n",
       "      <th>000180TP</th>\n",
       "      <th>2024-11-21 23:30:00+00:00</th>\n",
       "      <td>0.0</td>\n",
       "      <td>Tipping Bucket Raingauge</td>\n",
       "      <td>mm</td>\n",
       "      <td>rainfail</td>\n",
       "    </tr>\n",
       "  </tbody>\n",
       "</table>\n",
       "</div>"
      ],
      "text/plain": [
       "                                            value                 qualifier  \\\n",
       "stationReference dateTime                                                     \n",
       "000008           2024-11-21 23:30:00+00:00    0.0  Tipping Bucket Raingauge   \n",
       "000028           2024-11-21 23:30:00+00:00    0.0  Tipping Bucket Raingauge   \n",
       "000075TP         2024-11-21 23:30:00+00:00    0.0  Tipping Bucket Raingauge   \n",
       "000076TP         2024-11-21 23:30:00+00:00    0.0  Tipping Bucket Raingauge   \n",
       "000180TP         2024-11-21 23:30:00+00:00    0.0  Tipping Bucket Raingauge   \n",
       "\n",
       "                                           unitName parameter  \n",
       "stationReference dateTime                                      \n",
       "000008           2024-11-21 23:30:00+00:00       mm  rainfail  \n",
       "000028           2024-11-21 23:30:00+00:00       mm  rainfail  \n",
       "000075TP         2024-11-21 23:30:00+00:00       mm  rainfail  \n",
       "000076TP         2024-11-21 23:30:00+00:00       mm  rainfail  \n",
       "000180TP         2024-11-21 23:30:00+00:00       mm  rainfail  "
      ]
     },
     "execution_count": 8,
     "metadata": {},
     "output_type": "execute_result"
    }
   ],
   "source": [
    "data = ft.get_latest_rainfall_readings()\n",
    "data.head()"
   ]
  },
  {
   "cell_type": "code",
   "execution_count": null,
   "metadata": {},
   "outputs": [
    {
     "data": {
      "text/html": [
       "<div>\n",
       "<style scoped>\n",
       "    .dataframe tbody tr th:only-of-type {\n",
       "        vertical-align: middle;\n",
       "    }\n",
       "\n",
       "    .dataframe tbody tr th {\n",
       "        vertical-align: top;\n",
       "    }\n",
       "\n",
       "    .dataframe thead th {\n",
       "        text-align: right;\n",
       "    }\n",
       "</style>\n",
       "<table border=\"1\" class=\"dataframe\">\n",
       "  <thead>\n",
       "    <tr style=\"text-align: right;\">\n",
       "      <th></th>\n",
       "      <th>@id</th>\n",
       "      <th>dateTime</th>\n",
       "      <th>measure</th>\n",
       "      <th>value</th>\n",
       "    </tr>\n",
       "  </thead>\n",
       "  <tbody>\n",
       "    <tr>\n",
       "      <th>0</th>\n",
       "      <td>http://environment.data.gov.uk/flood-monitorin...</td>\n",
       "      <td>2024-11-21T23:30:00Z</td>\n",
       "      <td>http://environment.data.gov.uk/flood-monitorin...</td>\n",
       "      <td>0.0</td>\n",
       "    </tr>\n",
       "    <tr>\n",
       "      <th>1</th>\n",
       "      <td>http://environment.data.gov.uk/flood-monitorin...</td>\n",
       "      <td>2024-11-21T23:15:00Z</td>\n",
       "      <td>http://environment.data.gov.uk/flood-monitorin...</td>\n",
       "      <td>0.0</td>\n",
       "    </tr>\n",
       "    <tr>\n",
       "      <th>2</th>\n",
       "      <td>http://environment.data.gov.uk/flood-monitorin...</td>\n",
       "      <td>2024-11-21T23:00:00Z</td>\n",
       "      <td>http://environment.data.gov.uk/flood-monitorin...</td>\n",
       "      <td>0.0</td>\n",
       "    </tr>\n",
       "    <tr>\n",
       "      <th>3</th>\n",
       "      <td>http://environment.data.gov.uk/flood-monitorin...</td>\n",
       "      <td>2024-11-21T22:45:00Z</td>\n",
       "      <td>http://environment.data.gov.uk/flood-monitorin...</td>\n",
       "      <td>0.0</td>\n",
       "    </tr>\n",
       "    <tr>\n",
       "      <th>4</th>\n",
       "      <td>http://environment.data.gov.uk/flood-monitorin...</td>\n",
       "      <td>2024-11-21T22:30:00Z</td>\n",
       "      <td>http://environment.data.gov.uk/flood-monitorin...</td>\n",
       "      <td>0.4</td>\n",
       "    </tr>\n",
       "  </tbody>\n",
       "</table>\n",
       "</div>"
      ],
      "text/plain": [
       "                                                 @id              dateTime  \\\n",
       "0  http://environment.data.gov.uk/flood-monitorin...  2024-11-21T23:30:00Z   \n",
       "1  http://environment.data.gov.uk/flood-monitorin...  2024-11-21T23:15:00Z   \n",
       "2  http://environment.data.gov.uk/flood-monitorin...  2024-11-21T23:00:00Z   \n",
       "3  http://environment.data.gov.uk/flood-monitorin...  2024-11-21T22:45:00Z   \n",
       "4  http://environment.data.gov.uk/flood-monitorin...  2024-11-21T22:30:00Z   \n",
       "\n",
       "                                             measure  value  \n",
       "0  http://environment.data.gov.uk/flood-monitorin...    0.0  \n",
       "1  http://environment.data.gov.uk/flood-monitorin...    0.0  \n",
       "2  http://environment.data.gov.uk/flood-monitorin...    0.0  \n",
       "3  http://environment.data.gov.uk/flood-monitorin...    0.0  \n",
       "4  http://environment.data.gov.uk/flood-monitorin...    0.4  "
      ]
     },
     "execution_count": 9,
     "metadata": {},
     "output_type": "execute_result"
    }
   ],
   "source": [
    "data = ft.get_live_station_data('079621')\n",
    "data.head()"
   ]
  },
  {
   "cell_type": "code",
   "execution_count": null,
   "metadata": {},
   "outputs": [
    {
     "data": {
      "text/html": [
       "<div>\n",
       "<style scoped>\n",
       "    .dataframe tbody tr th:only-of-type {\n",
       "        vertical-align: middle;\n",
       "    }\n",
       "\n",
       "    .dataframe tbody tr th {\n",
       "        vertical-align: top;\n",
       "    }\n",
       "\n",
       "    .dataframe thead th {\n",
       "        text-align: right;\n",
       "    }\n",
       "</style>\n",
       "<table border=\"1\" class=\"dataframe\">\n",
       "  <thead>\n",
       "    <tr style=\"text-align: right;\">\n",
       "      <th></th>\n",
       "      <th>temperature_2m</th>\n",
       "      <th>rain</th>\n",
       "    </tr>\n",
       "  </thead>\n",
       "  <tbody>\n",
       "    <tr>\n",
       "      <th>2024-11-22</th>\n",
       "      <td>0.7</td>\n",
       "      <td>0.0</td>\n",
       "    </tr>\n",
       "  </tbody>\n",
       "</table>\n",
       "</div>"
      ],
      "text/plain": [
       "            temperature_2m  rain\n",
       "2024-11-22             0.7   0.0"
      ]
     },
     "execution_count": 10,
     "metadata": {},
     "output_type": "execute_result"
    }
   ],
   "source": [
    "live, forecast = ft.get_live_weather_data(51.5, 0.1)\n",
    "live"
   ]
  },
  {
   "cell_type": "code",
   "execution_count": null,
   "metadata": {},
   "outputs": [
    {
     "data": {
      "text/html": [
       "<div>\n",
       "<style scoped>\n",
       "    .dataframe tbody tr th:only-of-type {\n",
       "        vertical-align: middle;\n",
       "    }\n",
       "\n",
       "    .dataframe tbody tr th {\n",
       "        vertical-align: top;\n",
       "    }\n",
       "\n",
       "    .dataframe thead th {\n",
       "        text-align: right;\n",
       "    }\n",
       "</style>\n",
       "<table border=\"1\" class=\"dataframe\">\n",
       "  <thead>\n",
       "    <tr style=\"text-align: right;\">\n",
       "      <th></th>\n",
       "      <th>temperature_2m</th>\n",
       "      <th>relative_humidity_2m</th>\n",
       "      <th>rain</th>\n",
       "    </tr>\n",
       "  </thead>\n",
       "  <tbody>\n",
       "    <tr>\n",
       "      <th>2024-11-22 00:00:00</th>\n",
       "      <td>0.7</td>\n",
       "      <td>84.0</td>\n",
       "      <td>0.0</td>\n",
       "    </tr>\n",
       "    <tr>\n",
       "      <th>2024-11-22 01:00:00</th>\n",
       "      <td>0.7</td>\n",
       "      <td>85.0</td>\n",
       "      <td>0.0</td>\n",
       "    </tr>\n",
       "    <tr>\n",
       "      <th>2024-11-22 02:00:00</th>\n",
       "      <td>0.8</td>\n",
       "      <td>84.0</td>\n",
       "      <td>0.0</td>\n",
       "    </tr>\n",
       "    <tr>\n",
       "      <th>2024-11-22 03:00:00</th>\n",
       "      <td>0.7</td>\n",
       "      <td>85.0</td>\n",
       "      <td>0.0</td>\n",
       "    </tr>\n",
       "    <tr>\n",
       "      <th>2024-11-22 04:00:00</th>\n",
       "      <td>1.0</td>\n",
       "      <td>84.0</td>\n",
       "      <td>0.0</td>\n",
       "    </tr>\n",
       "  </tbody>\n",
       "</table>\n",
       "</div>"
      ],
      "text/plain": [
       "                     temperature_2m  relative_humidity_2m  rain\n",
       "2024-11-22 00:00:00             0.7                  84.0   0.0\n",
       "2024-11-22 01:00:00             0.7                  85.0   0.0\n",
       "2024-11-22 02:00:00             0.8                  84.0   0.0\n",
       "2024-11-22 03:00:00             0.7                  85.0   0.0\n",
       "2024-11-22 04:00:00             1.0                  84.0   0.0"
      ]
     },
     "execution_count": 11,
     "metadata": {},
     "output_type": "execute_result"
    }
   ],
   "source": [
    "forecast.head()"
   ]
  }
 ],
 "metadata": {
  "kernelspec": {
   "display_name": "deluge",
   "language": "python",
   "name": "python3"
  },
  "language_info": {
   "codemirror_mode": {
    "name": "ipython",
    "version": 3
   },
   "file_extension": ".py",
   "mimetype": "text/x-python",
   "name": "python",
   "nbconvert_exporter": "python",
   "pygments_lexer": "ipython3",
   "version": "3.12.0"
  }
 },
 "nbformat": 4,
 "nbformat_minor": 2
}
